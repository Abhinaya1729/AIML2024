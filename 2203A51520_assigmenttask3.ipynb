{
  "nbformat": 4,
  "nbformat_minor": 0,
  "metadata": {
    "colab": {
      "provenance": []
    },
    "kernelspec": {
      "name": "python3",
      "display_name": "Python 3"
    },
    "language_info": {
      "name": "python"
    }
  },
  "cells": [
    {
      "cell_type": "markdown",
      "source": [
        "Accessing the data"
      ],
      "metadata": {
        "id": "8QaIjAYp7PWo"
      }
    },
    {
      "cell_type": "code",
      "source": [
        "import numpy as np\n",
        "import pandas as pd\n",
        "df1 = pd.read_csv(\"/content/empnames.txt\")\n",
        "\n",
        "# display DataFrame\n",
        "print(df1)"
      ],
      "metadata": {
        "colab": {
          "base_uri": "https://localhost:8080/"
        },
        "id": "eRG1_31kMvTD",
        "outputId": "2fc6e2aa-6c49-40b4-9f1d-db4127a961b0"
      },
      "execution_count": 5,
      "outputs": [
        {
          "output_type": "stream",
          "name": "stdout",
          "text": [
            "     EmpName\n",
            "0   John Doe\n",
            "1  Janesmith\n",
            "2    Jhonson\n",
            "3     Ramesh\n"
          ]
        }
      ]
    },
    {
      "cell_type": "code",
      "source": [
        "import numpy as np\n",
        "import pandas as pd\n",
        "\n",
        "# Assuming \"Sheet1\" is the name of the sheet you want to read from\n",
        "df1 = pd.read_excel(\"/content/empdata.xlsx\", sheet_name=\"Sheet1\")\n",
        "\n",
        "# Display DataFrame\n",
        "print(df1)"
      ],
      "metadata": {
        "colab": {
          "base_uri": "https://localhost:8080/"
        },
        "id": "q4d9BbT3JpcC",
        "outputId": "69fbd3d8-805a-43c6-d8f6-e81ebdf3cb7f"
      },
      "execution_count": 1,
      "outputs": [
        {
          "output_type": "stream",
          "name": "stdout",
          "text": [
            "          Emp ID    EmpName Deptmnt  Salary\n",
            "0  |    001    |   John Doe      HR   50000\n",
            "1  |    002    |  Janesmith      IT   60000\n",
            "2  |    003    |    Jhonson  mrktng   55000\n",
            "3  |    004    |     Ramesh      IT   60000\n"
          ]
        }
      ]
    },
    {
      "cell_type": "code",
      "source": [
        "import pandas as pd\n",
        "\n",
        "# Read DataFrame from CSV file\n",
        "df1 = pd.read_csv(\"/content/empdata.csv\")\n",
        "\n",
        "# Display DataFrame\n",
        "print(df1)"
      ],
      "metadata": {
        "colab": {
          "base_uri": "https://localhost:8080/"
        },
        "id": "wHWCYd9zJ8AN",
        "outputId": "f143c7c7-07d5-4a80-fd68-5f7f803d49b3"
      },
      "execution_count": 2,
      "outputs": [
        {
          "output_type": "stream",
          "name": "stdout",
          "text": [
            "          Emp ID    EmpName Deptmnt  Salary\n",
            "0  |    001    |   John Doe      HR   50000\n",
            "1  |    002    |  Janesmith      IT   60000\n",
            "2  |    003    |    Jhonson  mrktng   55000\n",
            "3  |    004    |     Ramesh      IT   60000\n"
          ]
        }
      ]
    },
    {
      "cell_type": "code",
      "source": [
        "import pandas as pd\n",
        "\n",
        "# Read DataFrame from TSV file\n",
        "df1 = pd.read_csv(\"/content/empdata.txt\", delimiter='\\t')\n",
        "\n",
        "# Display DataFrame\n",
        "print(df1)"
      ],
      "metadata": {
        "colab": {
          "base_uri": "https://localhost:8080/"
        },
        "id": "rWI9U3T3KFU0",
        "outputId": "b7217c6d-baa1-48fc-f9ba-c026762ee790"
      },
      "execution_count": 4,
      "outputs": [
        {
          "output_type": "stream",
          "name": "stdout",
          "text": [
            "          Emp ID    EmpName Deptmnt  Salary\n",
            "0  |    001    |   John Doe      HR   50000\n",
            "1  |    002    |  Janesmith      IT   60000\n",
            "2  |    003    |    Jhonson  mrktng   55000\n",
            "3  |    004    |     Ramesh      IT   60000\n"
          ]
        }
      ]
    }
  ]
}